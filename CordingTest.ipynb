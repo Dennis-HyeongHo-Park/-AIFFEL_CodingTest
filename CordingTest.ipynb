{
  "nbformat": 4,
  "nbformat_minor": 0,
  "metadata": {
    "colab": {
      "provenance": [],
      "authorship_tag": "ABX9TyPCU0xwX0dPKcyY5MNCu0cv",
      "include_colab_link": true
    },
    "kernelspec": {
      "name": "python3",
      "display_name": "Python 3"
    },
    "language_info": {
      "name": "python"
    }
  },
  "cells": [
    {
      "cell_type": "markdown",
      "metadata": {
        "id": "view-in-github",
        "colab_type": "text"
      },
      "source": [
        "<a href=\"https://colab.research.google.com/github/Dennis-HyeongHo-Park/AIFFEL_CodingTest/blob/main/CordingTest.ipynb\" target=\"_parent\"><img src=\"https://colab.research.google.com/assets/colab-badge.svg\" alt=\"Open In Colab\"/></a>"
      ]
    },
    {
      "cell_type": "code",
      "execution_count": 2,
      "metadata": {
        "colab": {
          "base_uri": "https://localhost:8080/"
        },
        "id": "yZkdgzSUeA5F",
        "outputId": "1661479b-15c6-46e2-9904-3617283eefd6"
      },
      "outputs": [
        {
          "output_type": "stream",
          "name": "stdout",
          "text": [
            "hello world\n",
            "hello world\n"
          ]
        }
      ],
      "source": [
        "a = input(str())\n",
        "print(a)"
      ]
    },
    {
      "cell_type": "code",
      "source": [],
      "metadata": {
        "id": "97XuyDRKfLx4"
      },
      "execution_count": null,
      "outputs": []
    },
    {
      "cell_type": "code",
      "source": [
        "# 정수 a와 b가 주어집니다. 각 수를 입력받아 입출력 예와 같은 형식으로 출력하는 코드를 작성해 보세요.\n",
        "a, b = map(int, input().strip().split(' '))\n",
        "print(f\"a = {a} \\nb = {b}\")\n"
      ],
      "metadata": {
        "colab": {
          "base_uri": "https://localhost:8080/"
        },
        "id": "IuzAENnFeMjV",
        "outputId": "9e4c8bd5-06d0-44cf-a04f-4cab0d773e05"
      },
      "execution_count": 4,
      "outputs": [
        {
          "output_type": "stream",
          "name": "stdout",
          "text": [
            "1 2\n",
            "3\n"
          ]
        }
      ]
    },
    {
      "cell_type": "code",
      "source": [
        "str, n = input().strip().split(' ')\n",
        "n = int(n)\n",
        "print(str*n)"
      ],
      "metadata": {
        "colab": {
          "base_uri": "https://localhost:8080/"
        },
        "id": "Cg5ofpzliPSy",
        "outputId": "b0a6f281-5775-46fe-d138-e50984870e29"
      },
      "execution_count": 21,
      "outputs": [
        {
          "output_type": "stream",
          "name": "stdout",
          "text": [
            "string 5\n",
            "stringstringstringstringstring\n"
          ]
        }
      ]
    },
    {
      "cell_type": "code",
      "source": [
        "a = 'abcdEFG'\n",
        "print(a.swapcase())\n",
        "\n",
        "# swapcase()라는 함수를 이용할 수 있음.\n",
        "# 무 .. 다른 방법도 있겟지만..  이런 함수를 사용하는 것이 제일 빠른듯 하여.\n",
        "# 추가로\n",
        "# 소문자 => 대문자 : upper()\n",
        "# 대문자 => 소문자 : lower()"
      ],
      "metadata": {
        "colab": {
          "base_uri": "https://localhost:8080/"
        },
        "id": "TOAB9QgriSbW",
        "outputId": "fbbdd213-882a-4a95-9708-153553b3cb4d"
      },
      "execution_count": 25,
      "outputs": [
        {
          "output_type": "stream",
          "name": "stdout",
          "text": [
            "ABCDefg\n"
          ]
        }
      ]
    },
    {
      "cell_type": "code",
      "source": [
        "# 내가쓴 코드\n",
        "print('''!@#$%^&*(\\\\'\"<>?:;''')\n",
        "\n",
        "# !@#$%^&*(\\'\"<>?:;  여기서 ''' '''를 써주고 역슬러시(\\)하나를 더써줘서 해냄 근데 .. 다른\\\n",
        "# 방법이 있었음"
      ],
      "metadata": {
        "colab": {
          "base_uri": "https://localhost:8080/"
        },
        "id": "IoWMkjlFlqGP",
        "outputId": "cd5aed36-08bd-41c2-c963-10ee2a6ba323"
      },
      "execution_count": 35,
      "outputs": [
        {
          "output_type": "stream",
          "name": "stdout",
          "text": [
            "!@#$%^&*(\\'\"<>?:;\n"
          ]
        }
      ]
    },
    {
      "cell_type": "code",
      "source": [
        "# 바로 문자열 앞에 r을 써주면됨.\n",
        "# 여기서 r은 '원시 문자열 (raw string)'을 뜻함.\n",
        "# 이렇게 되면 문자열 내의 특수문자를 특별한 의미 없이 그대로 출력해줌.\n",
        "print(r'!@#$%^&*(\\'\"<>?:;')\n",
        "print(r'hello\\nworld')"
      ],
      "metadata": {
        "colab": {
          "base_uri": "https://localhost:8080/"
        },
        "id": "yULehqdKkn9n",
        "outputId": "6572720f-4cfc-478a-e69b-e3e365f73cf8"
      },
      "execution_count": 33,
      "outputs": [
        {
          "output_type": "stream",
          "name": "stdout",
          "text": [
            "!@#$%^&*(\\'\"<>?:;\n"
          ]
        }
      ]
    },
    {
      "cell_type": "code",
      "source": [
        "a, b = map(int, input().strip().split(' '))\n",
        "\n",
        "print(f'{a} + {b} = {a+b}')"
      ],
      "metadata": {
        "colab": {
          "base_uri": "https://localhost:8080/"
        },
        "id": "6NcEtciKlZSi",
        "outputId": "2b16152a-bdef-40a1-ddbd-281e2ddfad96"
      },
      "execution_count": 36,
      "outputs": [
        {
          "output_type": "stream",
          "name": "stdout",
          "text": [
            "3 4\n",
            "3 + 4 = 7\n"
          ]
        }
      ]
    },
    {
      "cell_type": "code",
      "source": [
        "str1, str2 = input().strip().split(' ')"
      ],
      "metadata": {
        "colab": {
          "base_uri": "https://localhost:8080/"
        },
        "id": "DvyI2ohGm5CO",
        "outputId": "41ce4820-6ea6-4f56-8e70-148b3092b6f9"
      },
      "execution_count": 41,
      "outputs": [
        {
          "name": "stdout",
          "output_type": "stream",
          "text": [
            "apple star\n"
          ]
        }
      ]
    },
    {
      "cell_type": "code",
      "source": [
        "a = (str1 + str2)\n",
        "a"
      ],
      "metadata": {
        "colab": {
          "base_uri": "https://localhost:8080/",
          "height": 35
        },
        "id": "dNI6puMqnGmc",
        "outputId": "1417633d-4e03-46c1-e43e-21621ba62285"
      },
      "execution_count": 46,
      "outputs": [
        {
          "output_type": "execute_result",
          "data": {
            "text/plain": [
              "'applestar'"
            ],
            "application/vnd.google.colaboratory.intrinsic+json": {
              "type": "string"
            }
          },
          "metadata": {},
          "execution_count": 46
        }
      ]
    },
    {
      "cell_type": "code",
      "source": [
        "str1 = input()"
      ],
      "metadata": {
        "colab": {
          "base_uri": "https://localhost:8080/"
        },
        "id": "kio3D_7snPic",
        "outputId": "48aa4243-0dc0-495d-9a9f-7de09cce59e6"
      },
      "execution_count": 1,
      "outputs": [
        {
          "name": "stdout",
          "output_type": "stream",
          "text": [
            "apple\n"
          ]
        }
      ]
    },
    {
      "cell_type": "code",
      "source": [
        "a = (i for i in str1)"
      ],
      "metadata": {
        "id": "QnREKDInoK7d"
      },
      "execution_count": 2,
      "outputs": []
    },
    {
      "cell_type": "code",
      "source": [
        "print(a)"
      ],
      "metadata": {
        "colab": {
          "base_uri": "https://localhost:8080/"
        },
        "id": "1ekiKDcxoslW",
        "outputId": "743001a1-c1dd-4b1a-c8f6-5719a9ecc65b"
      },
      "execution_count": 3,
      "outputs": [
        {
          "output_type": "stream",
          "name": "stdout",
          "text": [
            "<generator object <genexpr> at 0x7dbcb1155690>\n"
          ]
        }
      ]
    },
    {
      "cell_type": "code",
      "source": [
        "for i in str1:\n",
        "    print(i)"
      ],
      "metadata": {
        "colab": {
          "base_uri": "https://localhost:8080/"
        },
        "id": "Mt4fqdSApKcq",
        "outputId": "9e9b226b-ebd7-4bbe-e330-465feda2c795"
      },
      "execution_count": 4,
      "outputs": [
        {
          "output_type": "stream",
          "name": "stdout",
          "text": [
            "a\n",
            "p\n",
            "p\n",
            "l\n",
            "e\n"
          ]
        }
      ]
    },
    {
      "cell_type": "code",
      "source": [
        "a = int(input())\n",
        "\n"
      ],
      "metadata": {
        "colab": {
          "base_uri": "https://localhost:8080/"
        },
        "id": "lEIoZb6NpiWh",
        "outputId": "20ccb7cb-6926-4170-cb0d-61e87cec23e3"
      },
      "execution_count": 12,
      "outputs": [
        {
          "name": "stdout",
          "output_type": "stream",
          "text": [
            "14\n"
          ]
        }
      ]
    },
    {
      "cell_type": "code",
      "source": [
        "if a % 2 == 0 :\n",
        "    print(f'{a} is even')\n",
        "elif  a % 2 == 1 :\n",
        "    print(f'{a} is odd')"
      ],
      "metadata": {
        "colab": {
          "base_uri": "https://localhost:8080/"
        },
        "id": "QWZtx8U4rRum",
        "outputId": "737654d9-668f-4d13-e1a3-0e894e6c7915"
      },
      "execution_count": 8,
      "outputs": [
        {
          "output_type": "stream",
          "name": "stdout",
          "text": [
            "12 is even\n"
          ]
        }
      ]
    },
    {
      "cell_type": "code",
      "source": [
        "# 람다로 한번 써보자@!!\n",
        "\n",
        "# 겨로가!!!됨.. 다만!!!\n",
        "\n",
        "a = int(input())    # 이거 없어도됨.\n",
        "                    # 왜냐하면 밑에 result(a)만 있어도 결과는 나옴.\n",
        "                    # input()을 써야 했던 이유는 요구 조건에 있어야 했었음.\n",
        "\n",
        "result =lambda a : f'{a} is evne' if a % 2 == 0 else f'{a} is odd'\n",
        "print(result(a))    # 여기 a 대신 순자 넣어주면됨.. 따로 input필요 없음.\n"
      ],
      "metadata": {
        "colab": {
          "base_uri": "https://localhost:8080/"
        },
        "id": "2mZZPlg2rtsS",
        "outputId": "6bc6e0d7-40e7-4b52-fc85-4c2bdc80a805"
      },
      "execution_count": 43,
      "outputs": [
        {
          "output_type": "stream",
          "name": "stdout",
          "text": [
            "5\n",
            "5 is odd\n"
          ]
        }
      ]
    },
    {
      "cell_type": "code",
      "source": [
        "# 이것 처럼 한줄에 다 때려놓고 print(result) 하면 나오게 하고싶은데 .\n",
        "# 그러면 함수저장된 주소만 나옴.\n",
        "result = (lambda i : (f'{a} is even') if a % 2 == 0 else f'{a} is odd', a)(int(input()))"
      ],
      "metadata": {
        "id": "BsCNiVW237dB"
      },
      "execution_count": null,
      "outputs": []
    },
    {
      "cell_type": "code",
      "source": [
        "\n",
        "result = (lambda i : f'{i} is even' if a % 2 == 0 else f'{i} is odd')(int(input()))"
      ],
      "metadata": {
        "colab": {
          "base_uri": "https://localhost:8080/"
        },
        "id": "bCenyiHOt9nx",
        "outputId": "cb60fb4e-f318-440f-da52-10c7c834d8c1"
      },
      "execution_count": 33,
      "outputs": [
        {
          "name": "stdout",
          "output_type": "stream",
          "text": [
            "5\n"
          ]
        }
      ]
    },
    {
      "cell_type": "code",
      "source": [
        "print(result)"
      ],
      "metadata": {
        "colab": {
          "base_uri": "https://localhost:8080/"
        },
        "id": "ptb9-GKzuYIR",
        "outputId": "4cb4fbb0-e51f-40ef-fbe2-629d9f35a1e5"
      },
      "execution_count": 34,
      "outputs": [
        {
          "output_type": "stream",
          "name": "stdout",
          "text": [
            "5 is even\n"
          ]
        }
      ]
    },
    {
      "cell_type": "code",
      "source": [
        "bb = result(int(input()))"
      ],
      "metadata": {
        "colab": {
          "base_uri": "https://localhost:8080/"
        },
        "id": "oscsuVPX0pBD",
        "outputId": "addf588b-5197-4354-f0d3-b7ddc26c0e3d"
      },
      "execution_count": 25,
      "outputs": [
        {
          "name": "stdout",
          "output_type": "stream",
          "text": [
            "5\n"
          ]
        }
      ]
    },
    {
      "cell_type": "code",
      "source": [
        "print(bb)"
      ],
      "metadata": {
        "colab": {
          "base_uri": "https://localhost:8080/"
        },
        "id": "7LAtRst10o5U",
        "outputId": "bb93b5d8-3b52-41db-b6a9-71374dc1b0fd"
      },
      "execution_count": 26,
      "outputs": [
        {
          "output_type": "stream",
          "name": "stdout",
          "text": [
            "5 is odd\n"
          ]
        }
      ]
    },
    {
      "cell_type": "code",
      "source": [
        "num = input(\"숫자를 입력하세요: \")"
      ],
      "metadata": {
        "id": "4GTzd5u20-Bl"
      },
      "execution_count": null,
      "outputs": []
    },
    {
      "cell_type": "code",
      "source": [
        "check_parity = lambda x: f'{x} 는 홀수' if int(x) % 2 != 0 else f'{x} 눈 짝수'"
      ],
      "metadata": {
        "id": "R-kAAbXJ1i6F"
      },
      "execution_count": 30,
      "outputs": []
    },
    {
      "cell_type": "markdown",
      "source": [],
      "metadata": {
        "id": "A9FcqE4t147d"
      }
    },
    {
      "cell_type": "code",
      "source": [
        "print(check_parity(5))"
      ],
      "metadata": {
        "colab": {
          "base_uri": "https://localhost:8080/"
        },
        "id": "aALycnab1kL1",
        "outputId": "4c5d60ea-f3f4-4cc2-96c8-ee81c66be5d2"
      },
      "execution_count": 31,
      "outputs": [
        {
          "output_type": "stream",
          "name": "stdout",
          "text": [
            "5 는 홀수\n"
          ]
        }
      ]
    },
    {
      "cell_type": "code",
      "source": [
        "print(check_parity)"
      ],
      "metadata": {
        "colab": {
          "base_uri": "https://localhost:8080/"
        },
        "id": "VO3TM_QX1pKS",
        "outputId": "8237a79f-8628-4418-a96f-9c7f0d3e6877"
      },
      "execution_count": 29,
      "outputs": [
        {
          "output_type": "stream",
          "name": "stdout",
          "text": [
            "<function <lambda> at 0x7cc176332f80>\n"
          ]
        }
      ]
    },
    {
      "cell_type": "code",
      "source": [
        "result =lambda a : f'{a} is evne' if a % 2 == 0 else f'{a} is odd'\n",
        "print(result(100))\n"
      ],
      "metadata": {
        "colab": {
          "base_uri": "https://localhost:8080/"
        },
        "id": "SdEZW50P1zJR",
        "outputId": "c5a0ba89-fb47-41c7-eced-f90fadfd761f"
      },
      "execution_count": 42,
      "outputs": [
        {
          "output_type": "stream",
          "name": "stdout",
          "text": [
            "100 is evne\n"
          ]
        }
      ]
    },
    {
      "cell_type": "code",
      "source": [],
      "metadata": {
        "id": "u1H5D0nG3PMA"
      },
      "execution_count": null,
      "outputs": []
    }
  ]
}