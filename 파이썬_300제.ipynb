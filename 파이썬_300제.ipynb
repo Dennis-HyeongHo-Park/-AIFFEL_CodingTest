{
  "nbformat": 4,
  "nbformat_minor": 0,
  "metadata": {
    "colab": {
      "provenance": [],
      "authorship_tag": "ABX9TyMTOSLJ1O8ycCveetMMQ0pP",
      "include_colab_link": true
    },
    "kernelspec": {
      "name": "python3",
      "display_name": "Python 3"
    },
    "language_info": {
      "name": "python"
    }
  },
  "cells": [
    {
      "cell_type": "markdown",
      "metadata": {
        "id": "view-in-github",
        "colab_type": "text"
      },
      "source": [
        "<a href=\"https://colab.research.google.com/github/Dennis-HyeongHo-Park/AIFFEL_CodingTest/blob/main/%ED%8C%8C%EC%9D%B4%EC%8D%AC_300%EC%A0%9C.ipynb\" target=\"_parent\"><img src=\"https://colab.research.google.com/assets/colab-badge.svg\" alt=\"Open In Colab\"/></a>"
      ]
    },
    {
      "cell_type": "markdown",
      "source": [
        "### 08.  반복문"
      ],
      "metadata": {
        "id": "-dX1hjQhe1Gw"
      }
    },
    {
      "cell_type": "code",
      "source": [
        "# 132  for문의 실행결과 예측\n",
        "\n",
        "과일 = ['사과', '귤', '수박']\n",
        "\n",
        "for i in 과일 :\n",
        "    print('####')"
      ],
      "metadata": {
        "colab": {
          "base_uri": "https://localhost:8080/"
        },
        "id": "j6AclbG6eqlU",
        "outputId": "0fad2662-a728-49c0-80d8-ff0b27da2e20"
      },
      "execution_count": 4,
      "outputs": [
        {
          "output_type": "stream",
          "name": "stdout",
          "text": [
            "####\n",
            "####\n",
            "####\n"
          ]
        }
      ]
    },
    {
      "cell_type": "code",
      "source": [
        "# 133  동일한 코드 작성\n",
        "for 변수 in ['A', 'B', 'C'] :\n",
        "    print( 변수)"
      ],
      "metadata": {
        "colab": {
          "base_uri": "https://localhost:8080/"
        },
        "id": "iXSoTyVMfetz",
        "outputId": "a578f466-d13c-4dc3-c047-bc7f1bea9a3c"
      },
      "execution_count": 5,
      "outputs": [
        {
          "output_type": "stream",
          "name": "stdout",
          "text": [
            "A\n",
            "B\n",
            "C\n"
          ]
        }
      ]
    },
    {
      "cell_type": "code",
      "source": [
        "a = ['A', 'B', 'C']\n",
        "\n",
        "for i in a :\n",
        "    print(i)"
      ],
      "metadata": {
        "colab": {
          "base_uri": "https://localhost:8080/"
        },
        "id": "9FsdX09-fuju",
        "outputId": "65553899-a6ba-415b-a500-f40def0d1536"
      },
      "execution_count": 13,
      "outputs": [
        {
          "output_type": "stream",
          "name": "stdout",
          "text": [
            "A\n",
            "B\n",
            "C\n"
          ]
        }
      ]
    },
    {
      "cell_type": "code",
      "source": [
        "# 134  for문을 풀어서 동일한 동작을하는 코드를 작성하라\n",
        "for 변수 in ['A', 'B', 'C'] :\n",
        "    print('출력 :', 변수)"
      ],
      "metadata": {
        "colab": {
          "base_uri": "https://localhost:8080/"
        },
        "id": "Xhw5LxXsf4ay",
        "outputId": "ca339e82-bc50-4554-b93a-cb339d095f56"
      },
      "execution_count": 14,
      "outputs": [
        {
          "output_type": "stream",
          "name": "stdout",
          "text": [
            "출력 : A\n",
            "출력 : B\n",
            "출력 : C\n"
          ]
        }
      ]
    },
    {
      "cell_type": "code",
      "source": [
        "print('출력 :  A')\n",
        "print('출력 :  B')\n",
        "print('출력 :  C')"
      ],
      "metadata": {
        "colab": {
          "base_uri": "https://localhost:8080/"
        },
        "id": "rfhNnwVjjygN",
        "outputId": "35f332f4-c906-4c1c-9db9-7bd2ef85f48d"
      },
      "execution_count": 15,
      "outputs": [
        {
          "output_type": "stream",
          "name": "stdout",
          "text": [
            "출력 :  A\n",
            "출력 :  B\n",
            "출력 :  C\n"
          ]
        }
      ]
    },
    {
      "cell_type": "code",
      "source": [
        "for i in ['A', 'B', 'C'] :\n",
        "    b = i.lower()\n",
        "    print('변환 : ', b)"
      ],
      "metadata": {
        "colab": {
          "base_uri": "https://localhost:8080/"
        },
        "id": "PbYx48Phj--d",
        "outputId": "257e1b1e-f398-4fe3-e969-b38dd5deff23"
      },
      "execution_count": 16,
      "outputs": [
        {
          "output_type": "stream",
          "name": "stdout",
          "text": [
            "변환 :  a\n",
            "변환 :  b\n",
            "변환 :  c\n"
          ]
        }
      ]
    },
    {
      "cell_type": "code",
      "source": [
        "a = 'A'\n",
        "aa = a.lower()\n",
        "print('변환 : ', aa)\n",
        "\n",
        "b = 'B'\n",
        "bb = b.lower()\n",
        "print('변환 : ', bb)\n",
        "\n",
        "c = 'C'\n",
        "cc = c.lower()\n",
        "print('변환 : ', cc)"
      ],
      "metadata": {
        "colab": {
          "base_uri": "https://localhost:8080/"
        },
        "id": "iaJsPAJKkUcw",
        "outputId": "12b843a8-1fbb-4f6e-c44c-c75535fb6a28"
      },
      "execution_count": 33,
      "outputs": [
        {
          "output_type": "stream",
          "name": "stdout",
          "text": [
            "변환 :  a\n",
            "변환 :  b\n",
            "변환 :  c\n"
          ]
        }
      ]
    },
    {
      "cell_type": "code",
      "source": [
        "# 136\n",
        "a = (10 ,20, 30)\n",
        "for i in a :\n",
        "    print(i)"
      ],
      "metadata": {
        "colab": {
          "base_uri": "https://localhost:8080/"
        },
        "id": "tdI1n7Vzkflu",
        "outputId": "f10c9867-f5fd-4995-a206-1b788d6454e2"
      },
      "execution_count": 36,
      "outputs": [
        {
          "output_type": "stream",
          "name": "stdout",
          "text": [
            "10\n",
            "20\n",
            "30\n"
          ]
        }
      ]
    },
    {
      "cell_type": "code",
      "source": [
        "변수 = 10\n",
        "print(변수)\n",
        "변수 = 20\n",
        "print(변수)\n",
        "변수 = 30\n",
        "print(변수)"
      ],
      "metadata": {
        "colab": {
          "base_uri": "https://localhost:8080/"
        },
        "id": "5x-zVNtXpIlD",
        "outputId": "ba2ecfb2-71e9-4412-d7c7-651abe8ad8ce"
      },
      "execution_count": 40,
      "outputs": [
        {
          "output_type": "stream",
          "name": "stdout",
          "text": [
            "10\n",
            "20\n",
            "30\n"
          ]
        }
      ]
    },
    {
      "cell_type": "code",
      "source": [
        "# 137\n",
        "\n",
        "for i in (10, 20, 30) :\n",
        "    print(i)"
      ],
      "metadata": {
        "colab": {
          "base_uri": "https://localhost:8080/"
        },
        "id": "1x30BHeOpcH7",
        "outputId": "ead3cc35-0cf8-4eee-f610-c4e0eefeee04"
      },
      "execution_count": 41,
      "outputs": [
        {
          "output_type": "stream",
          "name": "stdout",
          "text": [
            "10\n",
            "20\n",
            "30\n"
          ]
        }
      ]
    },
    {
      "cell_type": "code",
      "source": [
        "# 138\n",
        "for i in (10, '-------', 20, '-------', 30, '-------') :\n",
        "    print(i)"
      ],
      "metadata": {
        "colab": {
          "base_uri": "https://localhost:8080/"
        },
        "id": "bC4N0WwrpzX8",
        "outputId": "bf2f6b8d-e4d1-4614-f919-34146e066273"
      },
      "execution_count": 46,
      "outputs": [
        {
          "output_type": "stream",
          "name": "stdout",
          "text": [
            "10\n",
            "-------\n",
            "20\n",
            "-------\n",
            "30\n",
            "-------\n"
          ]
        }
      ]
    },
    {
      "cell_type": "code",
      "source": [
        "for i in [10, 20, 30] :\n",
        "    print(i)\n",
        "    print('-----')"
      ],
      "metadata": {
        "colab": {
          "base_uri": "https://localhost:8080/"
        },
        "id": "BPofOjikt-YV",
        "outputId": "e77424fc-c4f0-4372-bb7b-2e83d893bef8"
      },
      "execution_count": 47,
      "outputs": [
        {
          "output_type": "stream",
          "name": "stdout",
          "text": [
            "10\n",
            "-----\n",
            "20\n",
            "-----\n",
            "30\n",
            "-----\n"
          ]
        }
      ]
    },
    {
      "cell_type": "code",
      "source": [
        "# 139\n",
        "for i in ['++++', 10, 20, 30]:\n",
        "    print(i)"
      ],
      "metadata": {
        "colab": {
          "base_uri": "https://localhost:8080/"
        },
        "id": "jgvRi1xku9Ju",
        "outputId": "a56ef634-e220-4c73-f2fb-f19378572d0f"
      },
      "execution_count": 48,
      "outputs": [
        {
          "output_type": "stream",
          "name": "stdout",
          "text": [
            "++++\n",
            "10\n",
            "20\n",
            "30\n"
          ]
        }
      ]
    },
    {
      "cell_type": "code",
      "source": [
        "# 140\n",
        "a =  0\n",
        "\n",
        "while a  < 4 :\n",
        "    a += 1\n",
        "    print('-----')\n",
        ""
      ],
      "metadata": {
        "colab": {
          "base_uri": "https://localhost:8080/"
        },
        "id": "HQp8lZYTvM5V",
        "outputId": "01359ac4-407a-459b-f838-b88232efc515"
      },
      "execution_count": 57,
      "outputs": [
        {
          "output_type": "stream",
          "name": "stdout",
          "text": [
            "-----\n",
            "-----\n",
            "-----\n",
            "-----\n"
          ]
        }
      ]
    },
    {
      "cell_type": "code",
      "source": [
        "for 변수 in [\"가\", \"나\", \"다\", \"라\"]:\n",
        "  print(\"-------\")"
      ],
      "metadata": {
        "colab": {
          "base_uri": "https://localhost:8080/"
        },
        "id": "ROZNeK5Iv05d",
        "outputId": "6c24a675-8c9f-4d47-f5df-4f7e6f2d12e5"
      },
      "execution_count": 58,
      "outputs": [
        {
          "output_type": "stream",
          "name": "stdout",
          "text": [
            "-------\n",
            "-------\n",
            "-------\n",
            "-------\n"
          ]
        }
      ]
    },
    {
      "cell_type": "code",
      "source": [
        "for 변수 in [1, 2, 3, 4]:\n",
        "  print(\"-------\")"
      ],
      "metadata": {
        "colab": {
          "base_uri": "https://localhost:8080/"
        },
        "id": "RZsqHs5EwrbI",
        "outputId": "5540d3fa-d45e-4c9b-ccab-4725a0afbcc8"
      },
      "execution_count": 59,
      "outputs": [
        {
          "output_type": "stream",
          "name": "stdout",
          "text": [
            "-------\n",
            "-------\n",
            "-------\n",
            "-------\n"
          ]
        }
      ]
    },
    {
      "cell_type": "code",
      "source": [
        "# 141\n",
        "a = [100, 200, 300]\n",
        "\n",
        "for i in a :\n",
        "    print(i + 10)"
      ],
      "metadata": {
        "colab": {
          "base_uri": "https://localhost:8080/"
        },
        "id": "sHIQI5pOwudM",
        "outputId": "cdbbe0bf-9608-4dd9-c5d5-414757579a61"
      },
      "execution_count": 62,
      "outputs": [
        {
          "output_type": "stream",
          "name": "stdout",
          "text": [
            "110\n",
            "210\n",
            "310\n"
          ]
        }
      ]
    },
    {
      "cell_type": "code",
      "source": [
        "# 142\n",
        "\n",
        "a = ['김밥', '라면', '튀김']\n",
        "\n",
        "for i in a :\n",
        "    print('오늘의 메뉴 : ', i)"
      ],
      "metadata": {
        "colab": {
          "base_uri": "https://localhost:8080/"
        },
        "id": "gTlsjeJCxUtB",
        "outputId": "06f23fbb-505f-44d9-f7c9-f74ab6d1004a"
      },
      "execution_count": 65,
      "outputs": [
        {
          "output_type": "stream",
          "name": "stdout",
          "text": [
            "오늘의 메뉴 :  김밥\n",
            "오늘의 메뉴 :  라면\n",
            "오늘의 메뉴 :  튀김\n"
          ]
        }
      ]
    },
    {
      "cell_type": "code",
      "source": [
        "# 143\n",
        "a = ['SK하이닉사', '삼성전자', 'LG전자']\n",
        "\n",
        "for i in a :\n",
        "    print(len(i))"
      ],
      "metadata": {
        "colab": {
          "base_uri": "https://localhost:8080/"
        },
        "id": "glQ0ghikyICT",
        "outputId": "15137655-854e-41db-f28e-a7f8ac760dde"
      },
      "execution_count": 66,
      "outputs": [
        {
          "output_type": "stream",
          "name": "stdout",
          "text": [
            "6\n",
            "4\n",
            "4\n"
          ]
        }
      ]
    },
    {
      "cell_type": "code",
      "source": [
        "# 144\n",
        "a = ['dog', 'cat', 'parrot']\n",
        "\n",
        "for i in a :\n",
        "    print(i, len(i))"
      ],
      "metadata": {
        "colab": {
          "base_uri": "https://localhost:8080/"
        },
        "id": "cXQ2L7YKzOxc",
        "outputId": "5da88adb-5fc1-4308-87d6-93a8c7dc7752"
      },
      "execution_count": 68,
      "outputs": [
        {
          "output_type": "stream",
          "name": "stdout",
          "text": [
            "dog 3\n",
            "cat 3\n",
            "parrot 6\n"
          ]
        }
      ]
    },
    {
      "cell_type": "code",
      "source": [
        "# 145\n",
        "\n",
        "for i in a :\n",
        "    print(i[:1])"
      ],
      "metadata": {
        "colab": {
          "base_uri": "https://localhost:8080/"
        },
        "id": "4HVGwlGr0FDb",
        "outputId": "b2dec290-9598-4b4f-d21a-a8aa2c7953f1"
      },
      "execution_count": 77,
      "outputs": [
        {
          "output_type": "stream",
          "name": "stdout",
          "text": [
            "d\n",
            "c\n",
            "p\n"
          ]
        }
      ]
    },
    {
      "cell_type": "code",
      "source": [
        "# 146\n",
        "a = [1, 2, 3]\n",
        "\n",
        "for i in a :\n",
        "    print('3 X', i)"
      ],
      "metadata": {
        "colab": {
          "base_uri": "https://localhost:8080/"
        },
        "id": "6TNXDfhs0Ro7",
        "outputId": "5ab50c98-6798-4292-8e7a-6bc4c14235cc"
      },
      "execution_count": 79,
      "outputs": [
        {
          "output_type": "stream",
          "name": "stdout",
          "text": [
            "3 X 1\n",
            "3 X 2\n",
            "3 X 3\n"
          ]
        }
      ]
    },
    {
      "cell_type": "code",
      "source": [
        "# 147\n",
        "for i in a :\n",
        "    print(f'{3} X {i} = {3*i}')"
      ],
      "metadata": {
        "colab": {
          "base_uri": "https://localhost:8080/"
        },
        "id": "9HCpGrzW0h5v",
        "outputId": "b4ec1be4-eead-44b8-ce39-ca7c0c75abc2"
      },
      "execution_count": 83,
      "outputs": [
        {
          "output_type": "stream",
          "name": "stdout",
          "text": [
            "3 X 1 = 3\n",
            "3 X 2 = 6\n",
            "3 X 3 = 9\n"
          ]
        }
      ]
    },
    {
      "cell_type": "code",
      "source": [
        "# 148\n",
        "a = ['가', '나', '다', '라']\n",
        "\n",
        "for i in a[1:] :\n",
        "    print(i)"
      ],
      "metadata": {
        "colab": {
          "base_uri": "https://localhost:8080/"
        },
        "id": "HbXONr-A01hv",
        "outputId": "f41fee2e-fd01-4b95-f229-ff60f6985be4"
      },
      "execution_count": 1,
      "outputs": [
        {
          "output_type": "stream",
          "name": "stdout",
          "text": [
            "나\n",
            "다\n",
            "라\n"
          ]
        }
      ]
    },
    {
      "cell_type": "code",
      "source": [
        "# 149\n",
        "for i in a[::2] :\n",
        "    print(i)"
      ],
      "metadata": {
        "colab": {
          "base_uri": "https://localhost:8080/"
        },
        "id": "gIvgObXt1ZKM",
        "outputId": "be725e0d-05c1-45f6-b8d1-3d5f0fce16de"
      },
      "execution_count": 2,
      "outputs": [
        {
          "output_type": "stream",
          "name": "stdout",
          "text": [
            "가\n",
            "다\n"
          ]
        }
      ]
    },
    {
      "cell_type": "code",
      "source": [
        "# 150\n",
        "for i in a[::-1] :\n",
        "    print(i)"
      ],
      "metadata": {
        "colab": {
          "base_uri": "https://localhost:8080/"
        },
        "id": "NZ8FkOUU1j4z",
        "outputId": "c26c244a-0f9a-4e11-b1c7-526db3cdf6bb"
      },
      "execution_count": 5,
      "outputs": [
        {
          "output_type": "stream",
          "name": "stdout",
          "text": [
            "라\n",
            "다\n",
            "나\n",
            "가\n"
          ]
        }
      ]
    },
    {
      "cell_type": "code",
      "source": [],
      "metadata": {
        "id": "dHSOddvK1sYV"
      },
      "execution_count": null,
      "outputs": []
    }
  ]
}